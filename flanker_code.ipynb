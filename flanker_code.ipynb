{
  "nbformat": 4,
  "nbformat_minor": 0,
  "metadata": {
    "colab": {
      "provenance": [],
      "authorship_tag": "ABX9TyO4uVeNbK0G6bt7aLu7xkcO",
      "include_colab_link": true
    },
    "kernelspec": {
      "name": "python3",
      "display_name": "Python 3"
    },
    "language_info": {
      "name": "python"
    }
  },
  "cells": [
    {
      "cell_type": "markdown",
      "metadata": {
        "id": "view-in-github",
        "colab_type": "text"
      },
      "source": [
        "<a href=\"https://colab.research.google.com/github/cristinarainich/tACS/blob/main/flanker_code.ipynb\" target=\"_parent\"><img src=\"https://colab.research.google.com/assets/colab-badge.svg\" alt=\"Open In Colab\"/></a>"
      ]
    },
    {
      "cell_type": "code",
      "execution_count": 1,
      "metadata": {
        "colab": {
          "base_uri": "https://localhost:8080/"
        },
        "id": "fhywLkIHcwh-",
        "outputId": "2d5e95fb-7d84-4339-e8d6-6058d6c7ce56"
      },
      "outputs": [
        {
          "output_type": "stream",
          "name": "stdout",
          "text": [
            "Mounted at /content/drive\n"
          ]
        }
      ],
      "source": [
        "from google.colab import drive\n",
        "drive.mount('/content/drive')"
      ]
    },
    {
      "cell_type": "code",
      "source": [
        "from pathlib import Path\n",
        "import pandas as pd\n",
        "import numpy as np\n",
        "import pylab as pl\n",
        "import seaborn as sns\n",
        "from statistics import mean"
      ],
      "metadata": {
        "id": "9e6MYE9XdqDe"
      },
      "execution_count": 42,
      "outputs": []
    },
    {
      "cell_type": "code",
      "source": [
        "working_path = Path('/content/drive/MyDrive/tACS/data/flanker')"
      ],
      "metadata": {
        "id": "ZFDqIUSJdtL_"
      },
      "execution_count": 3,
      "outputs": []
    },
    {
      "cell_type": "code",
      "source": [
        "cd /content/drive/MyDrive/tACS/data/flanker"
      ],
      "metadata": {
        "colab": {
          "base_uri": "https://localhost:8080/"
        },
        "id": "ManlqwPneAQO",
        "outputId": "9f12f2b1-ec71-4847-ee5d-af918dac7d64"
      },
      "execution_count": 4,
      "outputs": [
        {
          "output_type": "stream",
          "name": "stdout",
          "text": [
            "/content/drive/MyDrive/tACS/data/flanker\n"
          ]
        }
      ]
    },
    {
      "cell_type": "code",
      "source": [
        "!ls /content/drive/MyDrive/tACS/data/flanker"
      ],
      "metadata": {
        "colab": {
          "base_uri": "https://localhost:8080/"
        },
        "id": "SS48Wo2teED_",
        "outputId": "dba2f721-6e1a-44f4-da95-fafbb5b5712b"
      },
      "execution_count": 5,
      "outputs": [
        {
          "output_type": "stream",
          "name": "stdout",
          "text": [
            "subject-10_1.csv  subject-13_1.csv  subject-2_1.csv   subject-27_1.csv\tsubject-7_1.csv\n",
            "subject-10_2.csv  subject-13_2.csv  subject-22_1.csv  subject-27_2.csv\tsubject-7_2.csv\n",
            "subject-11_1.csv  subject-14_1.csv  subject-22_2.csv  subject-3_1.csv\tsubject-8_1.csv\n",
            "subject-11_2.csv  subject-14_2.csv  subject-2_2.csv   subject-3_2.csv\tsubject-8_2.csv\n",
            "subject-1_1.csv   subject-15_1.csv  subject-24_1.csv  subject-4_1.csv\tsubject-9_1.csv\n",
            "subject-12_1.csv  subject-15_2.csv  subject-24_2.csv  subject-4_2.csv\tsubject-9_2.csv\n",
            "subject-12_2.csv  subject-18_1.csv  subject-26_1.csv  subject-5_1.csv\n",
            "subject-1_2.csv   subject-18_2.csv  subject-26_2.csv  subject-5_2.csv\n"
          ]
        }
      ]
    },
    {
      "cell_type": "markdown",
      "source": [
        "Flanker interference - difference in RT between congruent and incongruent trial in correct trials only.\n",
        "Let's calculate two interference scores for the Flanker task: (1) subtracting the mean RT for the correct congruent items from the mean RT for the correct incongruent items within the combination condition and (2) subtracting the mean accuracy for the congruent items from the mean accuracy for the incongruent items within the combination condition."
      ],
      "metadata": {
        "id": "FpMDTq1ZiqAJ"
      }
    },
    {
      "cell_type": "code",
      "source": [
        "# function for going through files and getting inference scores from every subject for both sessions\n",
        "# adding values to the list so that we can incorporate all the results in one table\n",
        "subject_names = []\n",
        "acc1 = [] # inference scores for accuracy session 1\n",
        "acc2 = [] # inference scores for accuracy session 2\n",
        "rt1 = [] # inference scores for rt session 1\n",
        "rt2 = [] # inference scores for rt session 2\n",
        "\n",
        "for i in range(1, 5): # for different subjects\n",
        "  subject_names.append(i)\n",
        "  name1 = 'subject-{}_1.csv'.format(i) #session 1\n",
        "  name2 = 'subject-{}_2.csv'.format(i) #session 2\n",
        "  file1 = pd.read_csv(\n",
        "      working_path.joinpath(name1),\n",
        "      index_col=None\n",
        "    )\n",
        "  file2 = pd.read_csv(\n",
        "      working_path.joinpath(name2),\n",
        "      index_col=None\n",
        "    )\n",
        "  data1 = file1[['acc', 'avg_rt', 'congruency', 'correct']]\n",
        "  data2 = file2[['acc', 'avg_rt', 'congruency', 'correct']]\n",
        "\n",
        "  # comaprening the shapes of df\n",
        "  print(data1.shape)\n",
        "  print(data2.shape)\n",
        "\n",
        "  # calculating inference score for RT\n",
        "  # data1\n",
        "  RTcong1 = data1[(data1['congruency'] == 'yes') & (data1['correct']  == 1)]['avg_rt'].values.tolist()\n",
        "  RTincong1 = data1[(data1['congruency'] == 'no') & (data1['correct']  == 1)]['avg_rt'].values.tolist()\n",
        "  RTinference1 = mean(RTcong1) - mean(RTincong1)\n",
        "  # data2\n",
        "  RTcong2 = data2[(data2['congruency'] == 'yes') & (data2['correct']  == 1)]['avg_rt'].values.tolist()\n",
        "  RTincong2 = data2[(data2['congruency'] == 'no') & (data2['correct']  == 1)]['avg_rt'].values.tolist()\n",
        "  RTinference2 = mean(RTcong2) - mean(RTincong2)\n",
        "\n",
        "  rt1.append(RTinference1)\n",
        "  rt2.append(RTinference2)\n",
        "\n",
        "  # calculating inference scores for accuracy\n",
        "  # data1\n",
        "  ACCcong1 = data1[data1['congruency'] == 'yes']['correct'].values.tolist()\n",
        "  ACCincong1 = data1[data1['congruency'] == 'no']['correct'].values.tolist()\n",
        "  ACCinference1 = mean(ACCcong1) - mean(ACCincong1)\n",
        "  # data2\n",
        "  ACCcong2 = data2[data2['congruency'] == 'yes']['correct'].values.tolist()\n",
        "  ACCincong2 = data2[data2['congruency'] == 'no']['correct'].values.tolist()\n",
        "  ACCinference2 = mean(ACCcong2) - mean(ACCincong2)\n",
        "\n",
        "  acc1.append(ACCinference1)\n",
        "  acc2.append(ACCinference2)"
      ],
      "metadata": {
        "colab": {
          "base_uri": "https://localhost:8080/"
        },
        "id": "0jtFlXBNvrjr",
        "outputId": "632bea31-afff-4120-da0c-7e810c10a5f0"
      },
      "execution_count": 51,
      "outputs": [
        {
          "output_type": "stream",
          "name": "stdout",
          "text": [
            "(42, 4)\n",
            "(42, 4)\n",
            "(42, 4)\n",
            "(42, 4)\n",
            "(42, 4)\n",
            "(42, 4)\n",
            "(42, 4)\n",
            "(42, 4)\n"
          ]
        }
      ]
    },
    {
      "cell_type": "code",
      "source": [
        "data = {'Subject': subject_names, 'Acc1': acc1, 'RT1': rt1,\n",
        "        'Acc2': acc2, 'RT2': rt2}\n",
        "all_data = pd.DataFrame(data)"
      ],
      "metadata": {
        "id": "l0CiFiaP01vy"
      },
      "execution_count": 52,
      "outputs": []
    },
    {
      "cell_type": "code",
      "source": [
        "all_data"
      ],
      "metadata": {
        "colab": {
          "base_uri": "https://localhost:8080/",
          "height": 175
        },
        "id": "c68QXDL_s84H",
        "outputId": "32f59350-d1ff-480a-aa07-551c879544ce"
      },
      "execution_count": 53,
      "outputs": [
        {
          "output_type": "execute_result",
          "data": {
            "text/plain": [
              "   Subject      Acc1        RT1      Acc2        RT2\n",
              "0        1  0.214286  47.589750  0.071429 -21.400308\n",
              "1        2  0.000000 -67.801275  0.000000  13.941935\n",
              "2        3  0.000000 -15.992018  0.000000  -8.569685\n",
              "3        4  0.000000  -3.155885  0.000000 -12.891718"
            ],
            "text/html": [
              "\n",
              "  <div id=\"df-dd616481-09a6-4adf-953f-1a17c4d678f2\" class=\"colab-df-container\">\n",
              "    <div>\n",
              "<style scoped>\n",
              "    .dataframe tbody tr th:only-of-type {\n",
              "        vertical-align: middle;\n",
              "    }\n",
              "\n",
              "    .dataframe tbody tr th {\n",
              "        vertical-align: top;\n",
              "    }\n",
              "\n",
              "    .dataframe thead th {\n",
              "        text-align: right;\n",
              "    }\n",
              "</style>\n",
              "<table border=\"1\" class=\"dataframe\">\n",
              "  <thead>\n",
              "    <tr style=\"text-align: right;\">\n",
              "      <th></th>\n",
              "      <th>Subject</th>\n",
              "      <th>Acc1</th>\n",
              "      <th>RT1</th>\n",
              "      <th>Acc2</th>\n",
              "      <th>RT2</th>\n",
              "    </tr>\n",
              "  </thead>\n",
              "  <tbody>\n",
              "    <tr>\n",
              "      <th>0</th>\n",
              "      <td>1</td>\n",
              "      <td>0.214286</td>\n",
              "      <td>47.589750</td>\n",
              "      <td>0.071429</td>\n",
              "      <td>-21.400308</td>\n",
              "    </tr>\n",
              "    <tr>\n",
              "      <th>1</th>\n",
              "      <td>2</td>\n",
              "      <td>0.000000</td>\n",
              "      <td>-67.801275</td>\n",
              "      <td>0.000000</td>\n",
              "      <td>13.941935</td>\n",
              "    </tr>\n",
              "    <tr>\n",
              "      <th>2</th>\n",
              "      <td>3</td>\n",
              "      <td>0.000000</td>\n",
              "      <td>-15.992018</td>\n",
              "      <td>0.000000</td>\n",
              "      <td>-8.569685</td>\n",
              "    </tr>\n",
              "    <tr>\n",
              "      <th>3</th>\n",
              "      <td>4</td>\n",
              "      <td>0.000000</td>\n",
              "      <td>-3.155885</td>\n",
              "      <td>0.000000</td>\n",
              "      <td>-12.891718</td>\n",
              "    </tr>\n",
              "  </tbody>\n",
              "</table>\n",
              "</div>\n",
              "    <div class=\"colab-df-buttons\">\n",
              "\n",
              "  <div class=\"colab-df-container\">\n",
              "    <button class=\"colab-df-convert\" onclick=\"convertToInteractive('df-dd616481-09a6-4adf-953f-1a17c4d678f2')\"\n",
              "            title=\"Convert this dataframe to an interactive table.\"\n",
              "            style=\"display:none;\">\n",
              "\n",
              "  <svg xmlns=\"http://www.w3.org/2000/svg\" height=\"24px\" viewBox=\"0 -960 960 960\">\n",
              "    <path d=\"M120-120v-720h720v720H120Zm60-500h600v-160H180v160Zm220 220h160v-160H400v160Zm0 220h160v-160H400v160ZM180-400h160v-160H180v160Zm440 0h160v-160H620v160ZM180-180h160v-160H180v160Zm440 0h160v-160H620v160Z\"/>\n",
              "  </svg>\n",
              "    </button>\n",
              "\n",
              "  <style>\n",
              "    .colab-df-container {\n",
              "      display:flex;\n",
              "      gap: 12px;\n",
              "    }\n",
              "\n",
              "    .colab-df-convert {\n",
              "      background-color: #E8F0FE;\n",
              "      border: none;\n",
              "      border-radius: 50%;\n",
              "      cursor: pointer;\n",
              "      display: none;\n",
              "      fill: #1967D2;\n",
              "      height: 32px;\n",
              "      padding: 0 0 0 0;\n",
              "      width: 32px;\n",
              "    }\n",
              "\n",
              "    .colab-df-convert:hover {\n",
              "      background-color: #E2EBFA;\n",
              "      box-shadow: 0px 1px 2px rgba(60, 64, 67, 0.3), 0px 1px 3px 1px rgba(60, 64, 67, 0.15);\n",
              "      fill: #174EA6;\n",
              "    }\n",
              "\n",
              "    .colab-df-buttons div {\n",
              "      margin-bottom: 4px;\n",
              "    }\n",
              "\n",
              "    [theme=dark] .colab-df-convert {\n",
              "      background-color: #3B4455;\n",
              "      fill: #D2E3FC;\n",
              "    }\n",
              "\n",
              "    [theme=dark] .colab-df-convert:hover {\n",
              "      background-color: #434B5C;\n",
              "      box-shadow: 0px 1px 3px 1px rgba(0, 0, 0, 0.15);\n",
              "      filter: drop-shadow(0px 1px 2px rgba(0, 0, 0, 0.3));\n",
              "      fill: #FFFFFF;\n",
              "    }\n",
              "  </style>\n",
              "\n",
              "    <script>\n",
              "      const buttonEl =\n",
              "        document.querySelector('#df-dd616481-09a6-4adf-953f-1a17c4d678f2 button.colab-df-convert');\n",
              "      buttonEl.style.display =\n",
              "        google.colab.kernel.accessAllowed ? 'block' : 'none';\n",
              "\n",
              "      async function convertToInteractive(key) {\n",
              "        const element = document.querySelector('#df-dd616481-09a6-4adf-953f-1a17c4d678f2');\n",
              "        const dataTable =\n",
              "          await google.colab.kernel.invokeFunction('convertToInteractive',\n",
              "                                                    [key], {});\n",
              "        if (!dataTable) return;\n",
              "\n",
              "        const docLinkHtml = 'Like what you see? Visit the ' +\n",
              "          '<a target=\"_blank\" href=https://colab.research.google.com/notebooks/data_table.ipynb>data table notebook</a>'\n",
              "          + ' to learn more about interactive tables.';\n",
              "        element.innerHTML = '';\n",
              "        dataTable['output_type'] = 'display_data';\n",
              "        await google.colab.output.renderOutput(dataTable, element);\n",
              "        const docLink = document.createElement('div');\n",
              "        docLink.innerHTML = docLinkHtml;\n",
              "        element.appendChild(docLink);\n",
              "      }\n",
              "    </script>\n",
              "  </div>\n",
              "\n",
              "\n",
              "<div id=\"df-4230ae2e-ac3d-4118-962a-9a70c619dbc2\">\n",
              "  <button class=\"colab-df-quickchart\" onclick=\"quickchart('df-4230ae2e-ac3d-4118-962a-9a70c619dbc2')\"\n",
              "            title=\"Suggest charts\"\n",
              "            style=\"display:none;\">\n",
              "\n",
              "<svg xmlns=\"http://www.w3.org/2000/svg\" height=\"24px\"viewBox=\"0 0 24 24\"\n",
              "     width=\"24px\">\n",
              "    <g>\n",
              "        <path d=\"M19 3H5c-1.1 0-2 .9-2 2v14c0 1.1.9 2 2 2h14c1.1 0 2-.9 2-2V5c0-1.1-.9-2-2-2zM9 17H7v-7h2v7zm4 0h-2V7h2v10zm4 0h-2v-4h2v4z\"/>\n",
              "    </g>\n",
              "</svg>\n",
              "  </button>\n",
              "\n",
              "<style>\n",
              "  .colab-df-quickchart {\n",
              "      --bg-color: #E8F0FE;\n",
              "      --fill-color: #1967D2;\n",
              "      --hover-bg-color: #E2EBFA;\n",
              "      --hover-fill-color: #174EA6;\n",
              "      --disabled-fill-color: #AAA;\n",
              "      --disabled-bg-color: #DDD;\n",
              "  }\n",
              "\n",
              "  [theme=dark] .colab-df-quickchart {\n",
              "      --bg-color: #3B4455;\n",
              "      --fill-color: #D2E3FC;\n",
              "      --hover-bg-color: #434B5C;\n",
              "      --hover-fill-color: #FFFFFF;\n",
              "      --disabled-bg-color: #3B4455;\n",
              "      --disabled-fill-color: #666;\n",
              "  }\n",
              "\n",
              "  .colab-df-quickchart {\n",
              "    background-color: var(--bg-color);\n",
              "    border: none;\n",
              "    border-radius: 50%;\n",
              "    cursor: pointer;\n",
              "    display: none;\n",
              "    fill: var(--fill-color);\n",
              "    height: 32px;\n",
              "    padding: 0;\n",
              "    width: 32px;\n",
              "  }\n",
              "\n",
              "  .colab-df-quickchart:hover {\n",
              "    background-color: var(--hover-bg-color);\n",
              "    box-shadow: 0 1px 2px rgba(60, 64, 67, 0.3), 0 1px 3px 1px rgba(60, 64, 67, 0.15);\n",
              "    fill: var(--button-hover-fill-color);\n",
              "  }\n",
              "\n",
              "  .colab-df-quickchart-complete:disabled,\n",
              "  .colab-df-quickchart-complete:disabled:hover {\n",
              "    background-color: var(--disabled-bg-color);\n",
              "    fill: var(--disabled-fill-color);\n",
              "    box-shadow: none;\n",
              "  }\n",
              "\n",
              "  .colab-df-spinner {\n",
              "    border: 2px solid var(--fill-color);\n",
              "    border-color: transparent;\n",
              "    border-bottom-color: var(--fill-color);\n",
              "    animation:\n",
              "      spin 1s steps(1) infinite;\n",
              "  }\n",
              "\n",
              "  @keyframes spin {\n",
              "    0% {\n",
              "      border-color: transparent;\n",
              "      border-bottom-color: var(--fill-color);\n",
              "      border-left-color: var(--fill-color);\n",
              "    }\n",
              "    20% {\n",
              "      border-color: transparent;\n",
              "      border-left-color: var(--fill-color);\n",
              "      border-top-color: var(--fill-color);\n",
              "    }\n",
              "    30% {\n",
              "      border-color: transparent;\n",
              "      border-left-color: var(--fill-color);\n",
              "      border-top-color: var(--fill-color);\n",
              "      border-right-color: var(--fill-color);\n",
              "    }\n",
              "    40% {\n",
              "      border-color: transparent;\n",
              "      border-right-color: var(--fill-color);\n",
              "      border-top-color: var(--fill-color);\n",
              "    }\n",
              "    60% {\n",
              "      border-color: transparent;\n",
              "      border-right-color: var(--fill-color);\n",
              "    }\n",
              "    80% {\n",
              "      border-color: transparent;\n",
              "      border-right-color: var(--fill-color);\n",
              "      border-bottom-color: var(--fill-color);\n",
              "    }\n",
              "    90% {\n",
              "      border-color: transparent;\n",
              "      border-bottom-color: var(--fill-color);\n",
              "    }\n",
              "  }\n",
              "</style>\n",
              "\n",
              "  <script>\n",
              "    async function quickchart(key) {\n",
              "      const quickchartButtonEl =\n",
              "        document.querySelector('#' + key + ' button');\n",
              "      quickchartButtonEl.disabled = true;  // To prevent multiple clicks.\n",
              "      quickchartButtonEl.classList.add('colab-df-spinner');\n",
              "      try {\n",
              "        const charts = await google.colab.kernel.invokeFunction(\n",
              "            'suggestCharts', [key], {});\n",
              "      } catch (error) {\n",
              "        console.error('Error during call to suggestCharts:', error);\n",
              "      }\n",
              "      quickchartButtonEl.classList.remove('colab-df-spinner');\n",
              "      quickchartButtonEl.classList.add('colab-df-quickchart-complete');\n",
              "    }\n",
              "    (() => {\n",
              "      let quickchartButtonEl =\n",
              "        document.querySelector('#df-4230ae2e-ac3d-4118-962a-9a70c619dbc2 button');\n",
              "      quickchartButtonEl.style.display =\n",
              "        google.colab.kernel.accessAllowed ? 'block' : 'none';\n",
              "    })();\n",
              "  </script>\n",
              "</div>\n",
              "    </div>\n",
              "  </div>\n"
            ]
          },
          "metadata": {},
          "execution_count": 53
        }
      ]
    },
    {
      "cell_type": "code",
      "source": [],
      "metadata": {
        "id": "tnffxDJ81TD0"
      },
      "execution_count": null,
      "outputs": []
    }
  ]
}